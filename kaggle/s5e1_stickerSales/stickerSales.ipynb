{
 "cells": [
  {
   "cell_type": "markdown",
   "id": "b5f9c4a5",
   "metadata": {},
   "source": [
    "# Import data and packages"
   ]
  },
  {
   "cell_type": "code",
   "execution_count": 79,
   "id": "31ad0f37",
   "metadata": {},
   "outputs": [],
   "source": [
    "import csv\n",
    "import numpy as np\n",
    "import datetime\n",
    "import pandas as pd\n",
    "import seaborn as sns\n",
    "import matplotlib.pyplot as plt\n",
    "\n",
    "train = pd.read_csv('data/train.csv')\n",
    "test = pd.read_csv('data/test.csv')"
   ]
  },
  {
   "cell_type": "markdown",
   "id": "08012367",
   "metadata": {},
   "source": [
    "Ok, we've got our data and basic packages in. Let's have a poke around the data."
   ]
  },
  {
   "cell_type": "markdown",
   "id": "4cf4b98d",
   "metadata": {},
   "source": [
    "# Exploring the data"
   ]
  },
  {
   "cell_type": "code",
   "execution_count": 20,
   "id": "7eb8e2eb",
   "metadata": {},
   "outputs": [
    {
     "name": "stdout",
     "output_type": "stream",
     "text": [
      "(230130, 6)\n",
      "['Discount Stickers' 'Stickers for Less' 'Premium Sticker Mart']\n",
      "['Canada' 'Finland' 'Italy' 'Kenya' 'Norway' 'Singapore']\n",
      "['Holographic Goose' 'Kaggle' 'Kaggle Tiers' 'Kerneler'\n",
      " 'Kerneler Dark Mode']\n",
      "2016-12-31\n",
      "2010-01-01\n"
     ]
    },
    {
     "data": {
      "application/vnd.microsoft.datawrangler.viewer.v0+json": {
       "columns": [
        {
         "name": "index",
         "rawType": "int64",
         "type": "integer"
        },
        {
         "name": "id",
         "rawType": "int64",
         "type": "integer"
        },
        {
         "name": "date",
         "rawType": "object",
         "type": "string"
        },
        {
         "name": "country",
         "rawType": "object",
         "type": "string"
        },
        {
         "name": "store",
         "rawType": "object",
         "type": "string"
        },
        {
         "name": "product",
         "rawType": "object",
         "type": "string"
        },
        {
         "name": "num_sold",
         "rawType": "float64",
         "type": "float"
        }
       ],
       "ref": "92986882-f619-4f5d-8044-5257196cca01",
       "rows": [
        [
         "0",
         "0",
         "2010-01-01",
         "Canada",
         "Discount Stickers",
         "Holographic Goose",
         null
        ],
        [
         "1",
         "1",
         "2010-01-01",
         "Canada",
         "Discount Stickers",
         "Kaggle",
         "973.0"
        ],
        [
         "2",
         "2",
         "2010-01-01",
         "Canada",
         "Discount Stickers",
         "Kaggle Tiers",
         "906.0"
        ],
        [
         "3",
         "3",
         "2010-01-01",
         "Canada",
         "Discount Stickers",
         "Kerneler",
         "423.0"
        ],
        [
         "4",
         "4",
         "2010-01-01",
         "Canada",
         "Discount Stickers",
         "Kerneler Dark Mode",
         "491.0"
        ],
        [
         "5",
         "5",
         "2010-01-01",
         "Canada",
         "Stickers for Less",
         "Holographic Goose",
         "300.0"
        ],
        [
         "6",
         "6",
         "2010-01-01",
         "Canada",
         "Stickers for Less",
         "Kaggle",
         "1837.0"
        ],
        [
         "7",
         "7",
         "2010-01-01",
         "Canada",
         "Stickers for Less",
         "Kaggle Tiers",
         "1659.0"
        ],
        [
         "8",
         "8",
         "2010-01-01",
         "Canada",
         "Stickers for Less",
         "Kerneler",
         "807.0"
        ],
        [
         "9",
         "9",
         "2010-01-01",
         "Canada",
         "Stickers for Less",
         "Kerneler Dark Mode",
         "940.0"
        ],
        [
         "10",
         "10",
         "2010-01-01",
         "Canada",
         "Premium Sticker Mart",
         "Holographic Goose",
         "375.0"
        ],
        [
         "11",
         "11",
         "2010-01-01",
         "Canada",
         "Premium Sticker Mart",
         "Kaggle",
         "2212.0"
        ],
        [
         "12",
         "12",
         "2010-01-01",
         "Canada",
         "Premium Sticker Mart",
         "Kaggle Tiers",
         "2013.0"
        ],
        [
         "13",
         "13",
         "2010-01-01",
         "Canada",
         "Premium Sticker Mart",
         "Kerneler",
         "950.0"
        ],
        [
         "14",
         "14",
         "2010-01-01",
         "Canada",
         "Premium Sticker Mart",
         "Kerneler Dark Mode",
         "1213.0"
        ],
        [
         "15",
         "15",
         "2010-01-01",
         "Finland",
         "Discount Stickers",
         "Holographic Goose",
         "150.0"
        ],
        [
         "16",
         "16",
         "2010-01-01",
         "Finland",
         "Discount Stickers",
         "Kaggle",
         "926.0"
        ],
        [
         "17",
         "17",
         "2010-01-01",
         "Finland",
         "Discount Stickers",
         "Kaggle Tiers",
         "774.0"
        ],
        [
         "18",
         "18",
         "2010-01-01",
         "Finland",
         "Discount Stickers",
         "Kerneler",
         "424.0"
        ],
        [
         "19",
         "19",
         "2010-01-01",
         "Finland",
         "Discount Stickers",
         "Kerneler Dark Mode",
         "450.0"
        ]
       ],
       "shape": {
        "columns": 6,
        "rows": 20
       }
      },
      "text/html": [
       "<div>\n",
       "<style scoped>\n",
       "    .dataframe tbody tr th:only-of-type {\n",
       "        vertical-align: middle;\n",
       "    }\n",
       "\n",
       "    .dataframe tbody tr th {\n",
       "        vertical-align: top;\n",
       "    }\n",
       "\n",
       "    .dataframe thead th {\n",
       "        text-align: right;\n",
       "    }\n",
       "</style>\n",
       "<table border=\"1\" class=\"dataframe\">\n",
       "  <thead>\n",
       "    <tr style=\"text-align: right;\">\n",
       "      <th></th>\n",
       "      <th>id</th>\n",
       "      <th>date</th>\n",
       "      <th>country</th>\n",
       "      <th>store</th>\n",
       "      <th>product</th>\n",
       "      <th>num_sold</th>\n",
       "    </tr>\n",
       "  </thead>\n",
       "  <tbody>\n",
       "    <tr>\n",
       "      <th>0</th>\n",
       "      <td>0</td>\n",
       "      <td>2010-01-01</td>\n",
       "      <td>Canada</td>\n",
       "      <td>Discount Stickers</td>\n",
       "      <td>Holographic Goose</td>\n",
       "      <td>NaN</td>\n",
       "    </tr>\n",
       "    <tr>\n",
       "      <th>1</th>\n",
       "      <td>1</td>\n",
       "      <td>2010-01-01</td>\n",
       "      <td>Canada</td>\n",
       "      <td>Discount Stickers</td>\n",
       "      <td>Kaggle</td>\n",
       "      <td>973.0</td>\n",
       "    </tr>\n",
       "    <tr>\n",
       "      <th>2</th>\n",
       "      <td>2</td>\n",
       "      <td>2010-01-01</td>\n",
       "      <td>Canada</td>\n",
       "      <td>Discount Stickers</td>\n",
       "      <td>Kaggle Tiers</td>\n",
       "      <td>906.0</td>\n",
       "    </tr>\n",
       "    <tr>\n",
       "      <th>3</th>\n",
       "      <td>3</td>\n",
       "      <td>2010-01-01</td>\n",
       "      <td>Canada</td>\n",
       "      <td>Discount Stickers</td>\n",
       "      <td>Kerneler</td>\n",
       "      <td>423.0</td>\n",
       "    </tr>\n",
       "    <tr>\n",
       "      <th>4</th>\n",
       "      <td>4</td>\n",
       "      <td>2010-01-01</td>\n",
       "      <td>Canada</td>\n",
       "      <td>Discount Stickers</td>\n",
       "      <td>Kerneler Dark Mode</td>\n",
       "      <td>491.0</td>\n",
       "    </tr>\n",
       "    <tr>\n",
       "      <th>5</th>\n",
       "      <td>5</td>\n",
       "      <td>2010-01-01</td>\n",
       "      <td>Canada</td>\n",
       "      <td>Stickers for Less</td>\n",
       "      <td>Holographic Goose</td>\n",
       "      <td>300.0</td>\n",
       "    </tr>\n",
       "    <tr>\n",
       "      <th>6</th>\n",
       "      <td>6</td>\n",
       "      <td>2010-01-01</td>\n",
       "      <td>Canada</td>\n",
       "      <td>Stickers for Less</td>\n",
       "      <td>Kaggle</td>\n",
       "      <td>1837.0</td>\n",
       "    </tr>\n",
       "    <tr>\n",
       "      <th>7</th>\n",
       "      <td>7</td>\n",
       "      <td>2010-01-01</td>\n",
       "      <td>Canada</td>\n",
       "      <td>Stickers for Less</td>\n",
       "      <td>Kaggle Tiers</td>\n",
       "      <td>1659.0</td>\n",
       "    </tr>\n",
       "    <tr>\n",
       "      <th>8</th>\n",
       "      <td>8</td>\n",
       "      <td>2010-01-01</td>\n",
       "      <td>Canada</td>\n",
       "      <td>Stickers for Less</td>\n",
       "      <td>Kerneler</td>\n",
       "      <td>807.0</td>\n",
       "    </tr>\n",
       "    <tr>\n",
       "      <th>9</th>\n",
       "      <td>9</td>\n",
       "      <td>2010-01-01</td>\n",
       "      <td>Canada</td>\n",
       "      <td>Stickers for Less</td>\n",
       "      <td>Kerneler Dark Mode</td>\n",
       "      <td>940.0</td>\n",
       "    </tr>\n",
       "    <tr>\n",
       "      <th>10</th>\n",
       "      <td>10</td>\n",
       "      <td>2010-01-01</td>\n",
       "      <td>Canada</td>\n",
       "      <td>Premium Sticker Mart</td>\n",
       "      <td>Holographic Goose</td>\n",
       "      <td>375.0</td>\n",
       "    </tr>\n",
       "    <tr>\n",
       "      <th>11</th>\n",
       "      <td>11</td>\n",
       "      <td>2010-01-01</td>\n",
       "      <td>Canada</td>\n",
       "      <td>Premium Sticker Mart</td>\n",
       "      <td>Kaggle</td>\n",
       "      <td>2212.0</td>\n",
       "    </tr>\n",
       "    <tr>\n",
       "      <th>12</th>\n",
       "      <td>12</td>\n",
       "      <td>2010-01-01</td>\n",
       "      <td>Canada</td>\n",
       "      <td>Premium Sticker Mart</td>\n",
       "      <td>Kaggle Tiers</td>\n",
       "      <td>2013.0</td>\n",
       "    </tr>\n",
       "    <tr>\n",
       "      <th>13</th>\n",
       "      <td>13</td>\n",
       "      <td>2010-01-01</td>\n",
       "      <td>Canada</td>\n",
       "      <td>Premium Sticker Mart</td>\n",
       "      <td>Kerneler</td>\n",
       "      <td>950.0</td>\n",
       "    </tr>\n",
       "    <tr>\n",
       "      <th>14</th>\n",
       "      <td>14</td>\n",
       "      <td>2010-01-01</td>\n",
       "      <td>Canada</td>\n",
       "      <td>Premium Sticker Mart</td>\n",
       "      <td>Kerneler Dark Mode</td>\n",
       "      <td>1213.0</td>\n",
       "    </tr>\n",
       "    <tr>\n",
       "      <th>15</th>\n",
       "      <td>15</td>\n",
       "      <td>2010-01-01</td>\n",
       "      <td>Finland</td>\n",
       "      <td>Discount Stickers</td>\n",
       "      <td>Holographic Goose</td>\n",
       "      <td>150.0</td>\n",
       "    </tr>\n",
       "    <tr>\n",
       "      <th>16</th>\n",
       "      <td>16</td>\n",
       "      <td>2010-01-01</td>\n",
       "      <td>Finland</td>\n",
       "      <td>Discount Stickers</td>\n",
       "      <td>Kaggle</td>\n",
       "      <td>926.0</td>\n",
       "    </tr>\n",
       "    <tr>\n",
       "      <th>17</th>\n",
       "      <td>17</td>\n",
       "      <td>2010-01-01</td>\n",
       "      <td>Finland</td>\n",
       "      <td>Discount Stickers</td>\n",
       "      <td>Kaggle Tiers</td>\n",
       "      <td>774.0</td>\n",
       "    </tr>\n",
       "    <tr>\n",
       "      <th>18</th>\n",
       "      <td>18</td>\n",
       "      <td>2010-01-01</td>\n",
       "      <td>Finland</td>\n",
       "      <td>Discount Stickers</td>\n",
       "      <td>Kerneler</td>\n",
       "      <td>424.0</td>\n",
       "    </tr>\n",
       "    <tr>\n",
       "      <th>19</th>\n",
       "      <td>19</td>\n",
       "      <td>2010-01-01</td>\n",
       "      <td>Finland</td>\n",
       "      <td>Discount Stickers</td>\n",
       "      <td>Kerneler Dark Mode</td>\n",
       "      <td>450.0</td>\n",
       "    </tr>\n",
       "  </tbody>\n",
       "</table>\n",
       "</div>"
      ],
      "text/plain": [
       "    id        date  country                 store             product  \\\n",
       "0    0  2010-01-01   Canada     Discount Stickers   Holographic Goose   \n",
       "1    1  2010-01-01   Canada     Discount Stickers              Kaggle   \n",
       "2    2  2010-01-01   Canada     Discount Stickers        Kaggle Tiers   \n",
       "3    3  2010-01-01   Canada     Discount Stickers            Kerneler   \n",
       "4    4  2010-01-01   Canada     Discount Stickers  Kerneler Dark Mode   \n",
       "5    5  2010-01-01   Canada     Stickers for Less   Holographic Goose   \n",
       "6    6  2010-01-01   Canada     Stickers for Less              Kaggle   \n",
       "7    7  2010-01-01   Canada     Stickers for Less        Kaggle Tiers   \n",
       "8    8  2010-01-01   Canada     Stickers for Less            Kerneler   \n",
       "9    9  2010-01-01   Canada     Stickers for Less  Kerneler Dark Mode   \n",
       "10  10  2010-01-01   Canada  Premium Sticker Mart   Holographic Goose   \n",
       "11  11  2010-01-01   Canada  Premium Sticker Mart              Kaggle   \n",
       "12  12  2010-01-01   Canada  Premium Sticker Mart        Kaggle Tiers   \n",
       "13  13  2010-01-01   Canada  Premium Sticker Mart            Kerneler   \n",
       "14  14  2010-01-01   Canada  Premium Sticker Mart  Kerneler Dark Mode   \n",
       "15  15  2010-01-01  Finland     Discount Stickers   Holographic Goose   \n",
       "16  16  2010-01-01  Finland     Discount Stickers              Kaggle   \n",
       "17  17  2010-01-01  Finland     Discount Stickers        Kaggle Tiers   \n",
       "18  18  2010-01-01  Finland     Discount Stickers            Kerneler   \n",
       "19  19  2010-01-01  Finland     Discount Stickers  Kerneler Dark Mode   \n",
       "\n",
       "    num_sold  \n",
       "0        NaN  \n",
       "1      973.0  \n",
       "2      906.0  \n",
       "3      423.0  \n",
       "4      491.0  \n",
       "5      300.0  \n",
       "6     1837.0  \n",
       "7     1659.0  \n",
       "8      807.0  \n",
       "9      940.0  \n",
       "10     375.0  \n",
       "11    2212.0  \n",
       "12    2013.0  \n",
       "13     950.0  \n",
       "14    1213.0  \n",
       "15     150.0  \n",
       "16     926.0  \n",
       "17     774.0  \n",
       "18     424.0  \n",
       "19     450.0  "
      ]
     },
     "execution_count": 20,
     "metadata": {},
     "output_type": "execute_result"
    }
   ],
   "source": [
    "print(train.shape)\n",
    "print(train.store.unique())\n",
    "print(train.country.unique())\n",
    "print(train['product'].unique())\n",
    "print(max(train.date))\n",
    "print(min(train.date))\n",
    "train.head(20)"
   ]
  },
  {
   "cell_type": "markdown",
   "id": "4defc515",
   "metadata": {},
   "source": [
    "## Finding NAs\n",
    "We can see a missing value in our target variable. Let's look further into this and decide how we want to handle NAs in our dataset."
   ]
  },
  {
   "cell_type": "code",
   "execution_count": 87,
   "id": "6cb32fb4",
   "metadata": {},
   "outputs": [
    {
     "name": "stdout",
     "output_type": "stream",
     "text": [
      "8871\n"
     ]
    },
    {
     "data": {
      "application/vnd.microsoft.datawrangler.viewer.v0+json": {
       "columns": [
        {
         "name": "index",
         "rawType": "int64",
         "type": "integer"
        },
        {
         "name": "id",
         "rawType": "int64",
         "type": "integer"
        },
        {
         "name": "date",
         "rawType": "datetime64[ns]",
         "type": "datetime"
        },
        {
         "name": "country",
         "rawType": "object",
         "type": "string"
        },
        {
         "name": "store",
         "rawType": "object",
         "type": "string"
        },
        {
         "name": "product",
         "rawType": "object",
         "type": "string"
        },
        {
         "name": "num_sold",
         "rawType": "float64",
         "type": "float"
        },
        {
         "name": "weekday",
         "rawType": "int32",
         "type": "integer"
        },
        {
         "name": "day",
         "rawType": "int32",
         "type": "integer"
        },
        {
         "name": "month",
         "rawType": "int32",
         "type": "integer"
        },
        {
         "name": "year",
         "rawType": "int32",
         "type": "integer"
        }
       ],
       "ref": "1ec91ece-a1f2-42cb-84ac-7524b7302a30",
       "rows": [
        [
         "0",
         "0",
         "2010-01-01 00:00:00",
         "Canada",
         "Discount Stickers",
         "Holographic Goose",
         null,
         "4",
         "1",
         "1",
         "2010"
        ],
        [
         "45",
         "45",
         "2010-01-01 00:00:00",
         "Kenya",
         "Discount Stickers",
         "Holographic Goose",
         null,
         "4",
         "1",
         "1",
         "2010"
        ],
        [
         "90",
         "90",
         "2010-01-02 00:00:00",
         "Canada",
         "Discount Stickers",
         "Holographic Goose",
         null,
         "5",
         "2",
         "1",
         "2010"
        ],
        [
         "135",
         "135",
         "2010-01-02 00:00:00",
         "Kenya",
         "Discount Stickers",
         "Holographic Goose",
         null,
         "5",
         "2",
         "1",
         "2010"
        ],
        [
         "180",
         "180",
         "2010-01-03 00:00:00",
         "Canada",
         "Discount Stickers",
         "Holographic Goose",
         null,
         "6",
         "3",
         "1",
         "2010"
        ],
        [
         "225",
         "225",
         "2010-01-03 00:00:00",
         "Kenya",
         "Discount Stickers",
         "Holographic Goose",
         null,
         "6",
         "3",
         "1",
         "2010"
        ],
        [
         "270",
         "270",
         "2010-01-04 00:00:00",
         "Canada",
         "Discount Stickers",
         "Holographic Goose",
         null,
         "0",
         "4",
         "1",
         "2010"
        ],
        [
         "315",
         "315",
         "2010-01-04 00:00:00",
         "Kenya",
         "Discount Stickers",
         "Holographic Goose",
         null,
         "0",
         "4",
         "1",
         "2010"
        ],
        [
         "320",
         "320",
         "2010-01-04 00:00:00",
         "Kenya",
         "Stickers for Less",
         "Holographic Goose",
         null,
         "0",
         "4",
         "1",
         "2010"
        ],
        [
         "360",
         "360",
         "2010-01-05 00:00:00",
         "Canada",
         "Discount Stickers",
         "Holographic Goose",
         null,
         "1",
         "5",
         "1",
         "2010"
        ],
        [
         "405",
         "405",
         "2010-01-05 00:00:00",
         "Kenya",
         "Discount Stickers",
         "Holographic Goose",
         null,
         "1",
         "5",
         "1",
         "2010"
        ],
        [
         "410",
         "410",
         "2010-01-05 00:00:00",
         "Kenya",
         "Stickers for Less",
         "Holographic Goose",
         null,
         "1",
         "5",
         "1",
         "2010"
        ],
        [
         "450",
         "450",
         "2010-01-06 00:00:00",
         "Canada",
         "Discount Stickers",
         "Holographic Goose",
         null,
         "2",
         "6",
         "1",
         "2010"
        ],
        [
         "495",
         "495",
         "2010-01-06 00:00:00",
         "Kenya",
         "Discount Stickers",
         "Holographic Goose",
         null,
         "2",
         "6",
         "1",
         "2010"
        ],
        [
         "500",
         "500",
         "2010-01-06 00:00:00",
         "Kenya",
         "Stickers for Less",
         "Holographic Goose",
         null,
         "2",
         "6",
         "1",
         "2010"
        ],
        [
         "505",
         "505",
         "2010-01-06 00:00:00",
         "Kenya",
         "Premium Sticker Mart",
         "Holographic Goose",
         null,
         "2",
         "6",
         "1",
         "2010"
        ],
        [
         "540",
         "540",
         "2010-01-07 00:00:00",
         "Canada",
         "Discount Stickers",
         "Holographic Goose",
         null,
         "3",
         "7",
         "1",
         "2010"
        ],
        [
         "545",
         "545",
         "2010-01-07 00:00:00",
         "Canada",
         "Stickers for Less",
         "Holographic Goose",
         null,
         "3",
         "7",
         "1",
         "2010"
        ],
        [
         "585",
         "585",
         "2010-01-07 00:00:00",
         "Kenya",
         "Discount Stickers",
         "Holographic Goose",
         null,
         "3",
         "7",
         "1",
         "2010"
        ],
        [
         "590",
         "590",
         "2010-01-07 00:00:00",
         "Kenya",
         "Stickers for Less",
         "Holographic Goose",
         null,
         "3",
         "7",
         "1",
         "2010"
        ],
        [
         "595",
         "595",
         "2010-01-07 00:00:00",
         "Kenya",
         "Premium Sticker Mart",
         "Holographic Goose",
         null,
         "3",
         "7",
         "1",
         "2010"
        ],
        [
         "630",
         "630",
         "2010-01-08 00:00:00",
         "Canada",
         "Discount Stickers",
         "Holographic Goose",
         null,
         "4",
         "8",
         "1",
         "2010"
        ],
        [
         "675",
         "675",
         "2010-01-08 00:00:00",
         "Kenya",
         "Discount Stickers",
         "Holographic Goose",
         null,
         "4",
         "8",
         "1",
         "2010"
        ],
        [
         "680",
         "680",
         "2010-01-08 00:00:00",
         "Kenya",
         "Stickers for Less",
         "Holographic Goose",
         null,
         "4",
         "8",
         "1",
         "2010"
        ],
        [
         "720",
         "720",
         "2010-01-09 00:00:00",
         "Canada",
         "Discount Stickers",
         "Holographic Goose",
         null,
         "5",
         "9",
         "1",
         "2010"
        ],
        [
         "765",
         "765",
         "2010-01-09 00:00:00",
         "Kenya",
         "Discount Stickers",
         "Holographic Goose",
         null,
         "5",
         "9",
         "1",
         "2010"
        ],
        [
         "770",
         "770",
         "2010-01-09 00:00:00",
         "Kenya",
         "Stickers for Less",
         "Holographic Goose",
         null,
         "5",
         "9",
         "1",
         "2010"
        ],
        [
         "810",
         "810",
         "2010-01-10 00:00:00",
         "Canada",
         "Discount Stickers",
         "Holographic Goose",
         null,
         "6",
         "10",
         "1",
         "2010"
        ],
        [
         "855",
         "855",
         "2010-01-10 00:00:00",
         "Kenya",
         "Discount Stickers",
         "Holographic Goose",
         null,
         "6",
         "10",
         "1",
         "2010"
        ],
        [
         "900",
         "900",
         "2010-01-11 00:00:00",
         "Canada",
         "Discount Stickers",
         "Holographic Goose",
         null,
         "0",
         "11",
         "1",
         "2010"
        ],
        [
         "905",
         "905",
         "2010-01-11 00:00:00",
         "Canada",
         "Stickers for Less",
         "Holographic Goose",
         null,
         "0",
         "11",
         "1",
         "2010"
        ],
        [
         "945",
         "945",
         "2010-01-11 00:00:00",
         "Kenya",
         "Discount Stickers",
         "Holographic Goose",
         null,
         "0",
         "11",
         "1",
         "2010"
        ],
        [
         "950",
         "950",
         "2010-01-11 00:00:00",
         "Kenya",
         "Stickers for Less",
         "Holographic Goose",
         null,
         "0",
         "11",
         "1",
         "2010"
        ],
        [
         "955",
         "955",
         "2010-01-11 00:00:00",
         "Kenya",
         "Premium Sticker Mart",
         "Holographic Goose",
         null,
         "0",
         "11",
         "1",
         "2010"
        ],
        [
         "990",
         "990",
         "2010-01-12 00:00:00",
         "Canada",
         "Discount Stickers",
         "Holographic Goose",
         null,
         "1",
         "12",
         "1",
         "2010"
        ],
        [
         "1035",
         "1035",
         "2010-01-12 00:00:00",
         "Kenya",
         "Discount Stickers",
         "Holographic Goose",
         null,
         "1",
         "12",
         "1",
         "2010"
        ],
        [
         "1040",
         "1040",
         "2010-01-12 00:00:00",
         "Kenya",
         "Stickers for Less",
         "Holographic Goose",
         null,
         "1",
         "12",
         "1",
         "2010"
        ],
        [
         "1045",
         "1045",
         "2010-01-12 00:00:00",
         "Kenya",
         "Premium Sticker Mart",
         "Holographic Goose",
         null,
         "1",
         "12",
         "1",
         "2010"
        ],
        [
         "1080",
         "1080",
         "2010-01-13 00:00:00",
         "Canada",
         "Discount Stickers",
         "Holographic Goose",
         null,
         "2",
         "13",
         "1",
         "2010"
        ],
        [
         "1125",
         "1125",
         "2010-01-13 00:00:00",
         "Kenya",
         "Discount Stickers",
         "Holographic Goose",
         null,
         "2",
         "13",
         "1",
         "2010"
        ],
        [
         "1128",
         "1128",
         "2010-01-13 00:00:00",
         "Kenya",
         "Discount Stickers",
         "Kerneler",
         null,
         "2",
         "13",
         "1",
         "2010"
        ],
        [
         "1130",
         "1130",
         "2010-01-13 00:00:00",
         "Kenya",
         "Stickers for Less",
         "Holographic Goose",
         null,
         "2",
         "13",
         "1",
         "2010"
        ],
        [
         "1135",
         "1135",
         "2010-01-13 00:00:00",
         "Kenya",
         "Premium Sticker Mart",
         "Holographic Goose",
         null,
         "2",
         "13",
         "1",
         "2010"
        ],
        [
         "1170",
         "1170",
         "2010-01-14 00:00:00",
         "Canada",
         "Discount Stickers",
         "Holographic Goose",
         null,
         "3",
         "14",
         "1",
         "2010"
        ],
        [
         "1175",
         "1175",
         "2010-01-14 00:00:00",
         "Canada",
         "Stickers for Less",
         "Holographic Goose",
         null,
         "3",
         "14",
         "1",
         "2010"
        ],
        [
         "1215",
         "1215",
         "2010-01-14 00:00:00",
         "Kenya",
         "Discount Stickers",
         "Holographic Goose",
         null,
         "3",
         "14",
         "1",
         "2010"
        ],
        [
         "1220",
         "1220",
         "2010-01-14 00:00:00",
         "Kenya",
         "Stickers for Less",
         "Holographic Goose",
         null,
         "3",
         "14",
         "1",
         "2010"
        ],
        [
         "1225",
         "1225",
         "2010-01-14 00:00:00",
         "Kenya",
         "Premium Sticker Mart",
         "Holographic Goose",
         null,
         "3",
         "14",
         "1",
         "2010"
        ],
        [
         "1260",
         "1260",
         "2010-01-15 00:00:00",
         "Canada",
         "Discount Stickers",
         "Holographic Goose",
         null,
         "4",
         "15",
         "1",
         "2010"
        ],
        [
         "1305",
         "1305",
         "2010-01-15 00:00:00",
         "Kenya",
         "Discount Stickers",
         "Holographic Goose",
         null,
         "4",
         "15",
         "1",
         "2010"
        ]
       ],
       "shape": {
        "columns": 10,
        "rows": 8871
       }
      },
      "text/html": [
       "<div>\n",
       "<style scoped>\n",
       "    .dataframe tbody tr th:only-of-type {\n",
       "        vertical-align: middle;\n",
       "    }\n",
       "\n",
       "    .dataframe tbody tr th {\n",
       "        vertical-align: top;\n",
       "    }\n",
       "\n",
       "    .dataframe thead th {\n",
       "        text-align: right;\n",
       "    }\n",
       "</style>\n",
       "<table border=\"1\" class=\"dataframe\">\n",
       "  <thead>\n",
       "    <tr style=\"text-align: right;\">\n",
       "      <th></th>\n",
       "      <th>id</th>\n",
       "      <th>date</th>\n",
       "      <th>country</th>\n",
       "      <th>store</th>\n",
       "      <th>product</th>\n",
       "      <th>num_sold</th>\n",
       "      <th>weekday</th>\n",
       "      <th>day</th>\n",
       "      <th>month</th>\n",
       "      <th>year</th>\n",
       "    </tr>\n",
       "  </thead>\n",
       "  <tbody>\n",
       "    <tr>\n",
       "      <th>0</th>\n",
       "      <td>0</td>\n",
       "      <td>2010-01-01</td>\n",
       "      <td>Canada</td>\n",
       "      <td>Discount Stickers</td>\n",
       "      <td>Holographic Goose</td>\n",
       "      <td>NaN</td>\n",
       "      <td>4</td>\n",
       "      <td>1</td>\n",
       "      <td>1</td>\n",
       "      <td>2010</td>\n",
       "    </tr>\n",
       "    <tr>\n",
       "      <th>45</th>\n",
       "      <td>45</td>\n",
       "      <td>2010-01-01</td>\n",
       "      <td>Kenya</td>\n",
       "      <td>Discount Stickers</td>\n",
       "      <td>Holographic Goose</td>\n",
       "      <td>NaN</td>\n",
       "      <td>4</td>\n",
       "      <td>1</td>\n",
       "      <td>1</td>\n",
       "      <td>2010</td>\n",
       "    </tr>\n",
       "    <tr>\n",
       "      <th>90</th>\n",
       "      <td>90</td>\n",
       "      <td>2010-01-02</td>\n",
       "      <td>Canada</td>\n",
       "      <td>Discount Stickers</td>\n",
       "      <td>Holographic Goose</td>\n",
       "      <td>NaN</td>\n",
       "      <td>5</td>\n",
       "      <td>2</td>\n",
       "      <td>1</td>\n",
       "      <td>2010</td>\n",
       "    </tr>\n",
       "    <tr>\n",
       "      <th>135</th>\n",
       "      <td>135</td>\n",
       "      <td>2010-01-02</td>\n",
       "      <td>Kenya</td>\n",
       "      <td>Discount Stickers</td>\n",
       "      <td>Holographic Goose</td>\n",
       "      <td>NaN</td>\n",
       "      <td>5</td>\n",
       "      <td>2</td>\n",
       "      <td>1</td>\n",
       "      <td>2010</td>\n",
       "    </tr>\n",
       "    <tr>\n",
       "      <th>180</th>\n",
       "      <td>180</td>\n",
       "      <td>2010-01-03</td>\n",
       "      <td>Canada</td>\n",
       "      <td>Discount Stickers</td>\n",
       "      <td>Holographic Goose</td>\n",
       "      <td>NaN</td>\n",
       "      <td>6</td>\n",
       "      <td>3</td>\n",
       "      <td>1</td>\n",
       "      <td>2010</td>\n",
       "    </tr>\n",
       "    <tr>\n",
       "      <th>...</th>\n",
       "      <td>...</td>\n",
       "      <td>...</td>\n",
       "      <td>...</td>\n",
       "      <td>...</td>\n",
       "      <td>...</td>\n",
       "      <td>...</td>\n",
       "      <td>...</td>\n",
       "      <td>...</td>\n",
       "      <td>...</td>\n",
       "      <td>...</td>\n",
       "    </tr>\n",
       "    <tr>\n",
       "      <th>229905</th>\n",
       "      <td>229905</td>\n",
       "      <td>2016-12-29</td>\n",
       "      <td>Kenya</td>\n",
       "      <td>Discount Stickers</td>\n",
       "      <td>Holographic Goose</td>\n",
       "      <td>NaN</td>\n",
       "      <td>3</td>\n",
       "      <td>29</td>\n",
       "      <td>12</td>\n",
       "      <td>2016</td>\n",
       "    </tr>\n",
       "    <tr>\n",
       "      <th>229950</th>\n",
       "      <td>229950</td>\n",
       "      <td>2016-12-30</td>\n",
       "      <td>Canada</td>\n",
       "      <td>Discount Stickers</td>\n",
       "      <td>Holographic Goose</td>\n",
       "      <td>NaN</td>\n",
       "      <td>4</td>\n",
       "      <td>30</td>\n",
       "      <td>12</td>\n",
       "      <td>2016</td>\n",
       "    </tr>\n",
       "    <tr>\n",
       "      <th>229995</th>\n",
       "      <td>229995</td>\n",
       "      <td>2016-12-30</td>\n",
       "      <td>Kenya</td>\n",
       "      <td>Discount Stickers</td>\n",
       "      <td>Holographic Goose</td>\n",
       "      <td>NaN</td>\n",
       "      <td>4</td>\n",
       "      <td>30</td>\n",
       "      <td>12</td>\n",
       "      <td>2016</td>\n",
       "    </tr>\n",
       "    <tr>\n",
       "      <th>230040</th>\n",
       "      <td>230040</td>\n",
       "      <td>2016-12-31</td>\n",
       "      <td>Canada</td>\n",
       "      <td>Discount Stickers</td>\n",
       "      <td>Holographic Goose</td>\n",
       "      <td>NaN</td>\n",
       "      <td>5</td>\n",
       "      <td>31</td>\n",
       "      <td>12</td>\n",
       "      <td>2016</td>\n",
       "    </tr>\n",
       "    <tr>\n",
       "      <th>230085</th>\n",
       "      <td>230085</td>\n",
       "      <td>2016-12-31</td>\n",
       "      <td>Kenya</td>\n",
       "      <td>Discount Stickers</td>\n",
       "      <td>Holographic Goose</td>\n",
       "      <td>NaN</td>\n",
       "      <td>5</td>\n",
       "      <td>31</td>\n",
       "      <td>12</td>\n",
       "      <td>2016</td>\n",
       "    </tr>\n",
       "  </tbody>\n",
       "</table>\n",
       "<p>8871 rows × 10 columns</p>\n",
       "</div>"
      ],
      "text/plain": [
       "            id       date country              store            product  \\\n",
       "0            0 2010-01-01  Canada  Discount Stickers  Holographic Goose   \n",
       "45          45 2010-01-01   Kenya  Discount Stickers  Holographic Goose   \n",
       "90          90 2010-01-02  Canada  Discount Stickers  Holographic Goose   \n",
       "135        135 2010-01-02   Kenya  Discount Stickers  Holographic Goose   \n",
       "180        180 2010-01-03  Canada  Discount Stickers  Holographic Goose   \n",
       "...        ...        ...     ...                ...                ...   \n",
       "229905  229905 2016-12-29   Kenya  Discount Stickers  Holographic Goose   \n",
       "229950  229950 2016-12-30  Canada  Discount Stickers  Holographic Goose   \n",
       "229995  229995 2016-12-30   Kenya  Discount Stickers  Holographic Goose   \n",
       "230040  230040 2016-12-31  Canada  Discount Stickers  Holographic Goose   \n",
       "230085  230085 2016-12-31   Kenya  Discount Stickers  Holographic Goose   \n",
       "\n",
       "        num_sold  weekday  day  month  year  \n",
       "0            NaN        4    1      1  2010  \n",
       "45           NaN        4    1      1  2010  \n",
       "90           NaN        5    2      1  2010  \n",
       "135          NaN        5    2      1  2010  \n",
       "180          NaN        6    3      1  2010  \n",
       "...          ...      ...  ...    ...   ...  \n",
       "229905       NaN        3   29     12  2016  \n",
       "229950       NaN        4   30     12  2016  \n",
       "229995       NaN        4   30     12  2016  \n",
       "230040       NaN        5   31     12  2016  \n",
       "230085       NaN        5   31     12  2016  \n",
       "\n",
       "[8871 rows x 10 columns]"
      ]
     },
     "execution_count": 87,
     "metadata": {},
     "output_type": "execute_result"
    }
   ],
   "source": [
    "print(train.num_sold.isna().sum())\n",
    "train.query('num_sold.isna()')"
   ]
  },
  {
   "cell_type": "markdown",
   "id": "163df238",
   "metadata": {},
   "source": [
    "We can see some patterns in the NA results. They are typically from Canada or Kenya and mostly for the Holographic Goose Product. My gut is telling me the missing values are a stand in for 0. Let's explore further."
   ]
  },
  {
   "cell_type": "code",
   "execution_count": 109,
   "id": "7e613232",
   "metadata": {},
   "outputs": [
    {
     "name": "stdout",
     "output_type": "stream",
     "text": [
      "0\n"
     ]
    },
    {
     "data": {
      "application/vnd.microsoft.datawrangler.viewer.v0+json": {
       "columns": [
        {
         "name": "('country', 'product')",
         "rawType": "object",
         "type": "unknown"
        },
        {
         "name": "num_sold",
         "rawType": "float64",
         "type": "float"
        }
       ],
       "ref": "02d60286-1ce8-492b-85a9-59746b720e10",
       "rows": [
        [
         "('Kenya', 'Holographic Goose')",
         "5.8"
        ],
        [
         "('Kenya', 'Kerneler')",
         "14.0"
        ],
        [
         "('Kenya', 'Kerneler Dark Mode')",
         "16.4"
        ],
        [
         "('Kenya', 'Kaggle Tiers')",
         "25.9"
        ],
        [
         "('Kenya', 'Kaggle')",
         "31.4"
        ],
        [
         "('Italy', 'Holographic Goose')",
         "128.4"
        ],
        [
         "('Finland', 'Holographic Goose')",
         "177.4"
        ],
        [
         "('Singapore', 'Holographic Goose')",
         "204.7"
        ],
        [
         "('Canada', 'Holographic Goose')",
         "241.2"
        ],
        [
         "('Norway', 'Holographic Goose')",
         "337.6"
        ],
        [
         "('Italy', 'Kerneler')",
         "415.5"
        ],
        [
         "('Italy', 'Kerneler Dark Mode')",
         "486.0"
        ],
        [
         "('Finland', 'Kerneler')",
         "572.8"
        ],
        [
         "('Canada', 'Kerneler')",
         "583.9"
        ],
        [
         "('Singapore', 'Kerneler')",
         "661.2"
        ],
        [
         "('Finland', 'Kerneler Dark Mode')",
         "671.9"
        ],
        [
         "('Canada', 'Kerneler Dark Mode')",
         "681.8"
        ],
        [
         "('Italy', 'Kaggle Tiers')",
         "760.7"
        ],
        [
         "('Singapore', 'Kerneler Dark Mode')",
         "773.5"
        ],
        [
         "('Italy', 'Kaggle')",
         "920.5"
        ],
        [
         "('Finland', 'Kaggle Tiers')",
         "1048.2"
        ],
        [
         "('Canada', 'Kaggle Tiers')",
         "1069.6"
        ],
        [
         "('Norway', 'Kerneler')",
         "1089.7"
        ],
        [
         "('Singapore', 'Kaggle Tiers')",
         "1210.9"
        ],
        [
         "('Finland', 'Kaggle')",
         "1270.9"
        ],
        [
         "('Norway', 'Kerneler Dark Mode')",
         "1276.6"
        ],
        [
         "('Canada', 'Kaggle')",
         "1292.3"
        ],
        [
         "('Singapore', 'Kaggle')",
         "1465.0"
        ],
        [
         "('Norway', 'Kaggle Tiers')",
         "1994.7"
        ],
        [
         "('Norway', 'Kaggle')",
         "2414.2"
        ]
       ],
       "shape": {
        "columns": 1,
        "rows": 30
       }
      },
      "text/html": [
       "<div>\n",
       "<style scoped>\n",
       "    .dataframe tbody tr th:only-of-type {\n",
       "        vertical-align: middle;\n",
       "    }\n",
       "\n",
       "    .dataframe tbody tr th {\n",
       "        vertical-align: top;\n",
       "    }\n",
       "\n",
       "    .dataframe thead th {\n",
       "        text-align: right;\n",
       "    }\n",
       "</style>\n",
       "<table border=\"1\" class=\"dataframe\">\n",
       "  <thead>\n",
       "    <tr style=\"text-align: right;\">\n",
       "      <th></th>\n",
       "      <th></th>\n",
       "      <th>num_sold</th>\n",
       "    </tr>\n",
       "    <tr>\n",
       "      <th>country</th>\n",
       "      <th>product</th>\n",
       "      <th></th>\n",
       "    </tr>\n",
       "  </thead>\n",
       "  <tbody>\n",
       "    <tr>\n",
       "      <th rowspan=\"5\" valign=\"top\">Kenya</th>\n",
       "      <th>Holographic Goose</th>\n",
       "      <td>5.8</td>\n",
       "    </tr>\n",
       "    <tr>\n",
       "      <th>Kerneler</th>\n",
       "      <td>14.0</td>\n",
       "    </tr>\n",
       "    <tr>\n",
       "      <th>Kerneler Dark Mode</th>\n",
       "      <td>16.4</td>\n",
       "    </tr>\n",
       "    <tr>\n",
       "      <th>Kaggle Tiers</th>\n",
       "      <td>25.9</td>\n",
       "    </tr>\n",
       "    <tr>\n",
       "      <th>Kaggle</th>\n",
       "      <td>31.4</td>\n",
       "    </tr>\n",
       "    <tr>\n",
       "      <th>Italy</th>\n",
       "      <th>Holographic Goose</th>\n",
       "      <td>128.4</td>\n",
       "    </tr>\n",
       "    <tr>\n",
       "      <th>Finland</th>\n",
       "      <th>Holographic Goose</th>\n",
       "      <td>177.4</td>\n",
       "    </tr>\n",
       "    <tr>\n",
       "      <th>Singapore</th>\n",
       "      <th>Holographic Goose</th>\n",
       "      <td>204.7</td>\n",
       "    </tr>\n",
       "    <tr>\n",
       "      <th>Canada</th>\n",
       "      <th>Holographic Goose</th>\n",
       "      <td>241.2</td>\n",
       "    </tr>\n",
       "    <tr>\n",
       "      <th>Norway</th>\n",
       "      <th>Holographic Goose</th>\n",
       "      <td>337.6</td>\n",
       "    </tr>\n",
       "    <tr>\n",
       "      <th rowspan=\"2\" valign=\"top\">Italy</th>\n",
       "      <th>Kerneler</th>\n",
       "      <td>415.5</td>\n",
       "    </tr>\n",
       "    <tr>\n",
       "      <th>Kerneler Dark Mode</th>\n",
       "      <td>486.0</td>\n",
       "    </tr>\n",
       "    <tr>\n",
       "      <th>Finland</th>\n",
       "      <th>Kerneler</th>\n",
       "      <td>572.8</td>\n",
       "    </tr>\n",
       "    <tr>\n",
       "      <th>Canada</th>\n",
       "      <th>Kerneler</th>\n",
       "      <td>583.9</td>\n",
       "    </tr>\n",
       "    <tr>\n",
       "      <th>Singapore</th>\n",
       "      <th>Kerneler</th>\n",
       "      <td>661.2</td>\n",
       "    </tr>\n",
       "    <tr>\n",
       "      <th>Finland</th>\n",
       "      <th>Kerneler Dark Mode</th>\n",
       "      <td>671.9</td>\n",
       "    </tr>\n",
       "    <tr>\n",
       "      <th>Canada</th>\n",
       "      <th>Kerneler Dark Mode</th>\n",
       "      <td>681.8</td>\n",
       "    </tr>\n",
       "    <tr>\n",
       "      <th>Italy</th>\n",
       "      <th>Kaggle Tiers</th>\n",
       "      <td>760.7</td>\n",
       "    </tr>\n",
       "    <tr>\n",
       "      <th>Singapore</th>\n",
       "      <th>Kerneler Dark Mode</th>\n",
       "      <td>773.5</td>\n",
       "    </tr>\n",
       "    <tr>\n",
       "      <th>Italy</th>\n",
       "      <th>Kaggle</th>\n",
       "      <td>920.5</td>\n",
       "    </tr>\n",
       "    <tr>\n",
       "      <th>Finland</th>\n",
       "      <th>Kaggle Tiers</th>\n",
       "      <td>1048.2</td>\n",
       "    </tr>\n",
       "    <tr>\n",
       "      <th>Canada</th>\n",
       "      <th>Kaggle Tiers</th>\n",
       "      <td>1069.6</td>\n",
       "    </tr>\n",
       "    <tr>\n",
       "      <th>Norway</th>\n",
       "      <th>Kerneler</th>\n",
       "      <td>1089.7</td>\n",
       "    </tr>\n",
       "    <tr>\n",
       "      <th>Singapore</th>\n",
       "      <th>Kaggle Tiers</th>\n",
       "      <td>1210.9</td>\n",
       "    </tr>\n",
       "    <tr>\n",
       "      <th>Finland</th>\n",
       "      <th>Kaggle</th>\n",
       "      <td>1270.9</td>\n",
       "    </tr>\n",
       "    <tr>\n",
       "      <th>Norway</th>\n",
       "      <th>Kerneler Dark Mode</th>\n",
       "      <td>1276.6</td>\n",
       "    </tr>\n",
       "    <tr>\n",
       "      <th>Canada</th>\n",
       "      <th>Kaggle</th>\n",
       "      <td>1292.3</td>\n",
       "    </tr>\n",
       "    <tr>\n",
       "      <th>Singapore</th>\n",
       "      <th>Kaggle</th>\n",
       "      <td>1465.0</td>\n",
       "    </tr>\n",
       "    <tr>\n",
       "      <th rowspan=\"2\" valign=\"top\">Norway</th>\n",
       "      <th>Kaggle Tiers</th>\n",
       "      <td>1994.7</td>\n",
       "    </tr>\n",
       "    <tr>\n",
       "      <th>Kaggle</th>\n",
       "      <td>2414.2</td>\n",
       "    </tr>\n",
       "  </tbody>\n",
       "</table>\n",
       "</div>"
      ],
      "text/plain": [
       "                              num_sold\n",
       "country   product                     \n",
       "Kenya     Holographic Goose        5.8\n",
       "          Kerneler                14.0\n",
       "          Kerneler Dark Mode      16.4\n",
       "          Kaggle Tiers            25.9\n",
       "          Kaggle                  31.4\n",
       "Italy     Holographic Goose      128.4\n",
       "Finland   Holographic Goose      177.4\n",
       "Singapore Holographic Goose      204.7\n",
       "Canada    Holographic Goose      241.2\n",
       "Norway    Holographic Goose      337.6\n",
       "Italy     Kerneler               415.5\n",
       "          Kerneler Dark Mode     486.0\n",
       "Finland   Kerneler               572.8\n",
       "Canada    Kerneler               583.9\n",
       "Singapore Kerneler               661.2\n",
       "Finland   Kerneler Dark Mode     671.9\n",
       "Canada    Kerneler Dark Mode     681.8\n",
       "Italy     Kaggle Tiers           760.7\n",
       "Singapore Kerneler Dark Mode     773.5\n",
       "Italy     Kaggle                 920.5\n",
       "Finland   Kaggle Tiers          1048.2\n",
       "Canada    Kaggle Tiers          1069.6\n",
       "Norway    Kerneler              1089.7\n",
       "Singapore Kaggle Tiers          1210.9\n",
       "Finland   Kaggle                1270.9\n",
       "Norway    Kerneler Dark Mode    1276.6\n",
       "Canada    Kaggle                1292.3\n",
       "Singapore Kaggle                1465.0\n",
       "Norway    Kaggle Tiers          1994.7\n",
       "          Kaggle                2414.2"
      ]
     },
     "execution_count": 109,
     "metadata": {},
     "output_type": "execute_result"
    }
   ],
   "source": [
    "print(train.query('num_sold == 0').size)\n",
    "\n",
    "train[['country', 'product','num_sold']].groupby(['country', 'product']).mean().round(1).sort_values('num_sold')"
   ]
  },
  {
   "cell_type": "markdown",
   "id": "6c9edf0c",
   "metadata": {},
   "source": [
    "We can see that there are no records with a '0' and that Kenya has the lowest number of sales from any country and Holographic Goose has the lowest sales of any product. Considering all this, its a safe bet that we can comfortably replace all NA values with 0."
   ]
  },
  {
   "cell_type": "code",
   "execution_count": 116,
   "id": "6dd98a7d",
   "metadata": {},
   "outputs": [],
   "source": [
    "train['num_sold'] = train['num_sold'].fillna(0)"
   ]
  },
  {
   "cell_type": "markdown",
   "id": "b3f39e78",
   "metadata": {},
   "source": [
    "## Finding Patterns\n",
    "We've mostly got categorical variables. Country, store, product and a date. The date will help us pull out seasonality factors. Ideally what we'll see with the categorical variables is some patterns around different stores that either hold constant (Store A is in a populated area and always sells more) or we'll see different stores have different peaks times depending on the day of the week or time of year. Let's check."
   ]
  },
  {
   "cell_type": "code",
   "execution_count": 117,
   "id": "5c14df51",
   "metadata": {},
   "outputs": [
    {
     "data": {
      "text/plain": [
       "<Axes: xlabel='store', ylabel='num_sold'>"
      ]
     },
     "execution_count": 117,
     "metadata": {},
     "output_type": "execute_result"
    },
    {
     "data": {
      "image/png": "[encoded data removed]",
      "text/plain": [
       "<Figure size 640x480 with 1 Axes>"
      ]
     },
     "metadata": {},
     "output_type": "display_data"
    }
   ],
   "source": [
    "sns.barplot(x='store', y='num_sold', data=train, hue='country')"
   ]
  },
  {
   "cell_type": "markdown",
   "id": "fcebae9c",
   "metadata": {},
   "source": [
    "We can already see some patterns emerging that hold more or less constant to coutry regardless of store. Norway is always the highest seller followed by Singapore with Canada close behind. Then comes Finland and Kenya always coming up last. \n",
    "\n",
    "Similarly we can see the stores maintaining constant ordering regardless of country."
   ]
  },
  {
   "cell_type": "code",
   "execution_count": 27,
   "id": "32941a7f",
   "metadata": {},
   "outputs": [
    {
     "data": {
      "text/plain": [
       "<Axes: xlabel='store', ylabel='num_sold'>"
      ]
     },
     "execution_count": 27,
     "metadata": {},
     "output_type": "execute_result"
    },
    {
     "data": {
      "image/png": "[encoded data removed]",
      "text/plain": [
       "<Figure size 640x480 with 1 Axes>"
      ]
     },
     "metadata": {},
     "output_type": "display_data"
    }
   ],
   "source": [
    "sns.barplot(x='store', y='num_sold', data=train, hue='product')"
   ]
  },
  {
   "cell_type": "markdown",
   "id": "c103a315",
   "metadata": {},
   "source": [
    "Again here we see patterns holding across store and product. Kaggle the most popular product regardless of store and Premium Sticker Mart is the highest selling store for every product. The more we look, the more it looks like the relationship between our target variable and the three categorical variables is relatively straight forward."
   ]
  },
  {
   "cell_type": "markdown",
   "id": "358fced0",
   "metadata": {},
   "source": [
    "Let's look into our date variable. First we'll look into the distribtution of sales across the different days of the week. It would be a fair assumption that Saturdays and Sundays have higher average sales. After that, we'll look into typical retail events like the Christmas period."
   ]
  },
  {
   "cell_type": "markdown",
   "id": "eb3a9a11",
   "metadata": {},
   "source": [
    "## Exploring date data\n",
    "The first step is to convert our date to a datetime type field and pull out the weekday (0-6), year, month and day (1-31) elements for investigation."
   ]
  },
  {
   "cell_type": "code",
   "execution_count": 80,
   "id": "12e9209b",
   "metadata": {},
   "outputs": [
    {
     "data": {
      "application/vnd.microsoft.datawrangler.viewer.v0+json": {
       "columns": [
        {
         "name": "index",
         "rawType": "int64",
         "type": "integer"
        },
        {
         "name": "id",
         "rawType": "int64",
         "type": "integer"
        },
        {
         "name": "date",
         "rawType": "datetime64[ns]",
         "type": "datetime"
        },
        {
         "name": "country",
         "rawType": "object",
         "type": "string"
        },
        {
         "name": "store",
         "rawType": "object",
         "type": "string"
        },
        {
         "name": "product",
         "rawType": "object",
         "type": "string"
        },
        {
         "name": "num_sold",
         "rawType": "float64",
         "type": "float"
        },
        {
         "name": "weekday",
         "rawType": "int32",
         "type": "integer"
        },
        {
         "name": "day",
         "rawType": "int32",
         "type": "integer"
        },
        {
         "name": "month",
         "rawType": "int32",
         "type": "integer"
        },
        {
         "name": "year",
         "rawType": "int32",
         "type": "integer"
        }
       ],
       "ref": "07fb91a3-5f97-494c-b042-ad7fb7ed5ab6",
       "rows": [
        [
         "0",
         "0",
         "2010-01-01 00:00:00",
         "Canada",
         "Discount Stickers",
         "Holographic Goose",
         null,
         "4",
         "1",
         "1",
         "2010"
        ],
        [
         "1",
         "1",
         "2010-01-01 00:00:00",
         "Canada",
         "Discount Stickers",
         "Kaggle",
         "973.0",
         "4",
         "1",
         "1",
         "2010"
        ],
        [
         "2",
         "2",
         "2010-01-01 00:00:00",
         "Canada",
         "Discount Stickers",
         "Kaggle Tiers",
         "906.0",
         "4",
         "1",
         "1",
         "2010"
        ],
        [
         "3",
         "3",
         "2010-01-01 00:00:00",
         "Canada",
         "Discount Stickers",
         "Kerneler",
         "423.0",
         "4",
         "1",
         "1",
         "2010"
        ],
        [
         "4",
         "4",
         "2010-01-01 00:00:00",
         "Canada",
         "Discount Stickers",
         "Kerneler Dark Mode",
         "491.0",
         "4",
         "1",
         "1",
         "2010"
        ],
        [
         "5",
         "5",
         "2010-01-01 00:00:00",
         "Canada",
         "Stickers for Less",
         "Holographic Goose",
         "300.0",
         "4",
         "1",
         "1",
         "2010"
        ],
        [
         "6",
         "6",
         "2010-01-01 00:00:00",
         "Canada",
         "Stickers for Less",
         "Kaggle",
         "1837.0",
         "4",
         "1",
         "1",
         "2010"
        ],
        [
         "7",
         "7",
         "2010-01-01 00:00:00",
         "Canada",
         "Stickers for Less",
         "Kaggle Tiers",
         "1659.0",
         "4",
         "1",
         "1",
         "2010"
        ],
        [
         "8",
         "8",
         "2010-01-01 00:00:00",
         "Canada",
         "Stickers for Less",
         "Kerneler",
         "807.0",
         "4",
         "1",
         "1",
         "2010"
        ],
        [
         "9",
         "9",
         "2010-01-01 00:00:00",
         "Canada",
         "Stickers for Less",
         "Kerneler Dark Mode",
         "940.0",
         "4",
         "1",
         "1",
         "2010"
        ],
        [
         "10",
         "10",
         "2010-01-01 00:00:00",
         "Canada",
         "Premium Sticker Mart",
         "Holographic Goose",
         "375.0",
         "4",
         "1",
         "1",
         "2010"
        ],
        [
         "11",
         "11",
         "2010-01-01 00:00:00",
         "Canada",
         "Premium Sticker Mart",
         "Kaggle",
         "2212.0",
         "4",
         "1",
         "1",
         "2010"
        ],
        [
         "12",
         "12",
         "2010-01-01 00:00:00",
         "Canada",
         "Premium Sticker Mart",
         "Kaggle Tiers",
         "2013.0",
         "4",
         "1",
         "1",
         "2010"
        ],
        [
         "13",
         "13",
         "2010-01-01 00:00:00",
         "Canada",
         "Premium Sticker Mart",
         "Kerneler",
         "950.0",
         "4",
         "1",
         "1",
         "2010"
        ],
        [
         "14",
         "14",
         "2010-01-01 00:00:00",
         "Canada",
         "Premium Sticker Mart",
         "Kerneler Dark Mode",
         "1213.0",
         "4",
         "1",
         "1",
         "2010"
        ],
        [
         "15",
         "15",
         "2010-01-01 00:00:00",
         "Finland",
         "Discount Stickers",
         "Holographic Goose",
         "150.0",
         "4",
         "1",
         "1",
         "2010"
        ],
        [
         "16",
         "16",
         "2010-01-01 00:00:00",
         "Finland",
         "Discount Stickers",
         "Kaggle",
         "926.0",
         "4",
         "1",
         "1",
         "2010"
        ],
        [
         "17",
         "17",
         "2010-01-01 00:00:00",
         "Finland",
         "Discount Stickers",
         "Kaggle Tiers",
         "774.0",
         "4",
         "1",
         "1",
         "2010"
        ],
        [
         "18",
         "18",
         "2010-01-01 00:00:00",
         "Finland",
         "Discount Stickers",
         "Kerneler",
         "424.0",
         "4",
         "1",
         "1",
         "2010"
        ],
        [
         "19",
         "19",
         "2010-01-01 00:00:00",
         "Finland",
         "Discount Stickers",
         "Kerneler Dark Mode",
         "450.0",
         "4",
         "1",
         "1",
         "2010"
        ],
        [
         "20",
         "20",
         "2010-01-01 00:00:00",
         "Finland",
         "Stickers for Less",
         "Holographic Goose",
         "311.0",
         "4",
         "1",
         "1",
         "2010"
        ],
        [
         "21",
         "21",
         "2010-01-01 00:00:00",
         "Finland",
         "Stickers for Less",
         "Kaggle",
         "1948.0",
         "4",
         "1",
         "1",
         "2010"
        ],
        [
         "22",
         "22",
         "2010-01-01 00:00:00",
         "Finland",
         "Stickers for Less",
         "Kaggle Tiers",
         "1632.0",
         "4",
         "1",
         "1",
         "2010"
        ],
        [
         "23",
         "23",
         "2010-01-01 00:00:00",
         "Finland",
         "Stickers for Less",
         "Kerneler",
         "878.0",
         "4",
         "1",
         "1",
         "2010"
        ],
        [
         "24",
         "24",
         "2010-01-01 00:00:00",
         "Finland",
         "Stickers for Less",
         "Kerneler Dark Mode",
         "950.0",
         "4",
         "1",
         "1",
         "2010"
        ],
        [
         "25",
         "25",
         "2010-01-01 00:00:00",
         "Finland",
         "Premium Sticker Mart",
         "Holographic Goose",
         "362.0",
         "4",
         "1",
         "1",
         "2010"
        ],
        [
         "26",
         "26",
         "2010-01-01 00:00:00",
         "Finland",
         "Premium Sticker Mart",
         "Kaggle",
         "2304.0",
         "4",
         "1",
         "1",
         "2010"
        ],
        [
         "27",
         "27",
         "2010-01-01 00:00:00",
         "Finland",
         "Premium Sticker Mart",
         "Kaggle Tiers",
         "2070.0",
         "4",
         "1",
         "1",
         "2010"
        ],
        [
         "28",
         "28",
         "2010-01-01 00:00:00",
         "Finland",
         "Premium Sticker Mart",
         "Kerneler",
         "1134.0",
         "4",
         "1",
         "1",
         "2010"
        ],
        [
         "29",
         "29",
         "2010-01-01 00:00:00",
         "Finland",
         "Premium Sticker Mart",
         "Kerneler Dark Mode",
         "1047.0",
         "4",
         "1",
         "1",
         "2010"
        ],
        [
         "30",
         "30",
         "2010-01-01 00:00:00",
         "Italy",
         "Discount Stickers",
         "Holographic Goose",
         "110.0",
         "4",
         "1",
         "1",
         "2010"
        ],
        [
         "31",
         "31",
         "2010-01-01 00:00:00",
         "Italy",
         "Discount Stickers",
         "Kaggle",
         "681.0",
         "4",
         "1",
         "1",
         "2010"
        ],
        [
         "32",
         "32",
         "2010-01-01 00:00:00",
         "Italy",
         "Discount Stickers",
         "Kaggle Tiers",
         "627.0",
         "4",
         "1",
         "1",
         "2010"
        ],
        [
         "33",
         "33",
         "2010-01-01 00:00:00",
         "Italy",
         "Discount Stickers",
         "Kerneler",
         "340.0",
         "4",
         "1",
         "1",
         "2010"
        ],
        [
         "34",
         "34",
         "2010-01-01 00:00:00",
         "Italy",
         "Discount Stickers",
         "Kerneler Dark Mode",
         "406.0",
         "4",
         "1",
         "1",
         "2010"
        ],
        [
         "35",
         "35",
         "2010-01-01 00:00:00",
         "Italy",
         "Stickers for Less",
         "Holographic Goose",
         "228.0",
         "4",
         "1",
         "1",
         "2010"
        ],
        [
         "36",
         "36",
         "2010-01-01 00:00:00",
         "Italy",
         "Stickers for Less",
         "Kaggle",
         "1424.0",
         "4",
         "1",
         "1",
         "2010"
        ],
        [
         "37",
         "37",
         "2010-01-01 00:00:00",
         "Italy",
         "Stickers for Less",
         "Kaggle Tiers",
         "1281.0",
         "4",
         "1",
         "1",
         "2010"
        ],
        [
         "38",
         "38",
         "2010-01-01 00:00:00",
         "Italy",
         "Stickers for Less",
         "Kerneler",
         "637.0",
         "4",
         "1",
         "1",
         "2010"
        ],
        [
         "39",
         "39",
         "2010-01-01 00:00:00",
         "Italy",
         "Stickers for Less",
         "Kerneler Dark Mode",
         "778.0",
         "4",
         "1",
         "1",
         "2010"
        ],
        [
         "40",
         "40",
         "2010-01-01 00:00:00",
         "Italy",
         "Premium Sticker Mart",
         "Holographic Goose",
         "269.0",
         "4",
         "1",
         "1",
         "2010"
        ],
        [
         "41",
         "41",
         "2010-01-01 00:00:00",
         "Italy",
         "Premium Sticker Mart",
         "Kaggle",
         "1786.0",
         "4",
         "1",
         "1",
         "2010"
        ],
        [
         "42",
         "42",
         "2010-01-01 00:00:00",
         "Italy",
         "Premium Sticker Mart",
         "Kaggle Tiers",
         "1434.0",
         "4",
         "1",
         "1",
         "2010"
        ],
        [
         "43",
         "43",
         "2010-01-01 00:00:00",
         "Italy",
         "Premium Sticker Mart",
         "Kerneler",
         "783.0",
         "4",
         "1",
         "1",
         "2010"
        ],
        [
         "44",
         "44",
         "2010-01-01 00:00:00",
         "Italy",
         "Premium Sticker Mart",
         "Kerneler Dark Mode",
         "861.0",
         "4",
         "1",
         "1",
         "2010"
        ],
        [
         "45",
         "45",
         "2010-01-01 00:00:00",
         "Kenya",
         "Discount Stickers",
         "Holographic Goose",
         null,
         "4",
         "1",
         "1",
         "2010"
        ],
        [
         "46",
         "46",
         "2010-01-01 00:00:00",
         "Kenya",
         "Discount Stickers",
         "Kaggle",
         "20.0",
         "4",
         "1",
         "1",
         "2010"
        ],
        [
         "47",
         "47",
         "2010-01-01 00:00:00",
         "Kenya",
         "Discount Stickers",
         "Kaggle Tiers",
         "16.0",
         "4",
         "1",
         "1",
         "2010"
        ],
        [
         "48",
         "48",
         "2010-01-01 00:00:00",
         "Kenya",
         "Discount Stickers",
         "Kerneler",
         "8.0",
         "4",
         "1",
         "1",
         "2010"
        ],
        [
         "49",
         "49",
         "2010-01-01 00:00:00",
         "Kenya",
         "Discount Stickers",
         "Kerneler Dark Mode",
         "9.0",
         "4",
         "1",
         "1",
         "2010"
        ]
       ],
       "shape": {
        "columns": 10,
        "rows": 300
       }
      },
      "text/html": [
       "<div>\n",
       "<style scoped>\n",
       "    .dataframe tbody tr th:only-of-type {\n",
       "        vertical-align: middle;\n",
       "    }\n",
       "\n",
       "    .dataframe tbody tr th {\n",
       "        vertical-align: top;\n",
       "    }\n",
       "\n",
       "    .dataframe thead th {\n",
       "        text-align: right;\n",
       "    }\n",
       "</style>\n",
       "<table border=\"1\" class=\"dataframe\">\n",
       "  <thead>\n",
       "    <tr style=\"text-align: right;\">\n",
       "      <th></th>\n",
       "      <th>id</th>\n",
       "      <th>date</th>\n",
       "      <th>country</th>\n",
       "      <th>store</th>\n",
       "      <th>product</th>\n",
       "      <th>num_sold</th>\n",
       "      <th>weekday</th>\n",
       "      <th>day</th>\n",
       "      <th>month</th>\n",
       "      <th>year</th>\n",
       "    </tr>\n",
       "  </thead>\n",
       "  <tbody>\n",
       "    <tr>\n",
       "      <th>0</th>\n",
       "      <td>0</td>\n",
       "      <td>2010-01-01</td>\n",
       "      <td>Canada</td>\n",
       "      <td>Discount Stickers</td>\n",
       "      <td>Holographic Goose</td>\n",
       "      <td>NaN</td>\n",
       "      <td>4</td>\n",
       "      <td>1</td>\n",
       "      <td>1</td>\n",
       "      <td>2010</td>\n",
       "    </tr>\n",
       "    <tr>\n",
       "      <th>1</th>\n",
       "      <td>1</td>\n",
       "      <td>2010-01-01</td>\n",
       "      <td>Canada</td>\n",
       "      <td>Discount Stickers</td>\n",
       "      <td>Kaggle</td>\n",
       "      <td>973.0</td>\n",
       "      <td>4</td>\n",
       "      <td>1</td>\n",
       "      <td>1</td>\n",
       "      <td>2010</td>\n",
       "    </tr>\n",
       "    <tr>\n",
       "      <th>2</th>\n",
       "      <td>2</td>\n",
       "      <td>2010-01-01</td>\n",
       "      <td>Canada</td>\n",
       "      <td>Discount Stickers</td>\n",
       "      <td>Kaggle Tiers</td>\n",
       "      <td>906.0</td>\n",
       "      <td>4</td>\n",
       "      <td>1</td>\n",
       "      <td>1</td>\n",
       "      <td>2010</td>\n",
       "    </tr>\n",
       "    <tr>\n",
       "      <th>3</th>\n",
       "      <td>3</td>\n",
       "      <td>2010-01-01</td>\n",
       "      <td>Canada</td>\n",
       "      <td>Discount Stickers</td>\n",
       "      <td>Kerneler</td>\n",
       "      <td>423.0</td>\n",
       "      <td>4</td>\n",
       "      <td>1</td>\n",
       "      <td>1</td>\n",
       "      <td>2010</td>\n",
       "    </tr>\n",
       "    <tr>\n",
       "      <th>4</th>\n",
       "      <td>4</td>\n",
       "      <td>2010-01-01</td>\n",
       "      <td>Canada</td>\n",
       "      <td>Discount Stickers</td>\n",
       "      <td>Kerneler Dark Mode</td>\n",
       "      <td>491.0</td>\n",
       "      <td>4</td>\n",
       "      <td>1</td>\n",
       "      <td>1</td>\n",
       "      <td>2010</td>\n",
       "    </tr>\n",
       "    <tr>\n",
       "      <th>...</th>\n",
       "      <td>...</td>\n",
       "      <td>...</td>\n",
       "      <td>...</td>\n",
       "      <td>...</td>\n",
       "      <td>...</td>\n",
       "      <td>...</td>\n",
       "      <td>...</td>\n",
       "      <td>...</td>\n",
       "      <td>...</td>\n",
       "      <td>...</td>\n",
       "    </tr>\n",
       "    <tr>\n",
       "      <th>295</th>\n",
       "      <td>295</td>\n",
       "      <td>2010-01-04</td>\n",
       "      <td>Finland</td>\n",
       "      <td>Premium Sticker Mart</td>\n",
       "      <td>Holographic Goose</td>\n",
       "      <td>295.0</td>\n",
       "      <td>0</td>\n",
       "      <td>4</td>\n",
       "      <td>1</td>\n",
       "      <td>2010</td>\n",
       "    </tr>\n",
       "    <tr>\n",
       "      <th>296</th>\n",
       "      <td>296</td>\n",
       "      <td>2010-01-04</td>\n",
       "      <td>Finland</td>\n",
       "      <td>Premium Sticker Mart</td>\n",
       "      <td>Kaggle</td>\n",
       "      <td>1705.0</td>\n",
       "      <td>0</td>\n",
       "      <td>4</td>\n",
       "      <td>1</td>\n",
       "      <td>2010</td>\n",
       "    </tr>\n",
       "    <tr>\n",
       "      <th>297</th>\n",
       "      <td>297</td>\n",
       "      <td>2010-01-04</td>\n",
       "      <td>Finland</td>\n",
       "      <td>Premium Sticker Mart</td>\n",
       "      <td>Kaggle Tiers</td>\n",
       "      <td>1577.0</td>\n",
       "      <td>0</td>\n",
       "      <td>4</td>\n",
       "      <td>1</td>\n",
       "      <td>2010</td>\n",
       "    </tr>\n",
       "    <tr>\n",
       "      <th>298</th>\n",
       "      <td>298</td>\n",
       "      <td>2010-01-04</td>\n",
       "      <td>Finland</td>\n",
       "      <td>Premium Sticker Mart</td>\n",
       "      <td>Kerneler</td>\n",
       "      <td>769.0</td>\n",
       "      <td>0</td>\n",
       "      <td>4</td>\n",
       "      <td>1</td>\n",
       "      <td>2010</td>\n",
       "    </tr>\n",
       "    <tr>\n",
       "      <th>299</th>\n",
       "      <td>299</td>\n",
       "      <td>2010-01-04</td>\n",
       "      <td>Finland</td>\n",
       "      <td>Premium Sticker Mart</td>\n",
       "      <td>Kerneler Dark Mode</td>\n",
       "      <td>931.0</td>\n",
       "      <td>0</td>\n",
       "      <td>4</td>\n",
       "      <td>1</td>\n",
       "      <td>2010</td>\n",
       "    </tr>\n",
       "  </tbody>\n",
       "</table>\n",
       "<p>300 rows × 10 columns</p>\n",
       "</div>"
      ],
      "text/plain": [
       "      id       date  country                 store             product  \\\n",
       "0      0 2010-01-01   Canada     Discount Stickers   Holographic Goose   \n",
       "1      1 2010-01-01   Canada     Discount Stickers              Kaggle   \n",
       "2      2 2010-01-01   Canada     Discount Stickers        Kaggle Tiers   \n",
       "3      3 2010-01-01   Canada     Discount Stickers            Kerneler   \n",
       "4      4 2010-01-01   Canada     Discount Stickers  Kerneler Dark Mode   \n",
       "..   ...        ...      ...                   ...                 ...   \n",
       "295  295 2010-01-04  Finland  Premium Sticker Mart   Holographic Goose   \n",
       "296  296 2010-01-04  Finland  Premium Sticker Mart              Kaggle   \n",
       "297  297 2010-01-04  Finland  Premium Sticker Mart        Kaggle Tiers   \n",
       "298  298 2010-01-04  Finland  Premium Sticker Mart            Kerneler   \n",
       "299  299 2010-01-04  Finland  Premium Sticker Mart  Kerneler Dark Mode   \n",
       "\n",
       "     num_sold  weekday  day  month  year  \n",
       "0         NaN        4    1      1  2010  \n",
       "1       973.0        4    1      1  2010  \n",
       "2       906.0        4    1      1  2010  \n",
       "3       423.0        4    1      1  2010  \n",
       "4       491.0        4    1      1  2010  \n",
       "..        ...      ...  ...    ...   ...  \n",
       "295     295.0        0    4      1  2010  \n",
       "296    1705.0        0    4      1  2010  \n",
       "297    1577.0        0    4      1  2010  \n",
       "298     769.0        0    4      1  2010  \n",
       "299     931.0        0    4      1  2010  \n",
       "\n",
       "[300 rows x 10 columns]"
      ]
     },
     "execution_count": 80,
     "metadata": {},
     "output_type": "execute_result"
    }
   ],
   "source": [
    "train['date'] = pd.to_datetime(train.date)\n",
    "train['weekday'] = train.date.dt.weekday\n",
    "train['day'] = train.date.dt.day\n",
    "train['month'] = train.date.dt.month\n",
    "train['year'] = train.date.dt.year\n",
    "train.head(300)"
   ]
  },
  {
   "cell_type": "markdown",
   "id": "c1683626",
   "metadata": {},
   "source": [
    "Let's do some EDA on the new variables. Here we're considering weekday, where 0 = monday and 6 = Sunday."
   ]
  },
  {
   "cell_type": "code",
   "execution_count": 118,
   "id": "8f4740e5",
   "metadata": {},
   "outputs": [
    {
     "data": {
      "text/plain": [
       "<Axes: xlabel='weekday', ylabel='num_sold'>"
      ]
     },
     "execution_count": 118,
     "metadata": {},
     "output_type": "execute_result"
    },
    {
     "data": {
      "image/png": "[encoded data removed]",
      "text/plain": [
       "<Figure size 640x480 with 1 Axes>"
      ]
     },
     "metadata": {},
     "output_type": "display_data"
    }
   ],
   "source": [
    "sns.barplot(x='weekday', y='num_sold', data=train)"
   ]
  },
  {
   "cell_type": "markdown",
   "id": "f4e3bf44",
   "metadata": {},
   "source": [
    "As predicted, we can see an upswing in sales towards Sunday. And this effect is constant across countries, stores and products..."
   ]
  },
  {
   "cell_type": "code",
   "execution_count": 39,
   "id": "cb317b7e",
   "metadata": {},
   "outputs": [
    {
     "data": {
      "text/plain": [
       "<Axes: xlabel='country', ylabel='num_sold'>"
      ]
     },
     "execution_count": 39,
     "metadata": {},
     "output_type": "execute_result"
    },
    {
     "data": {
      "image/png": "[encoded data removed]",
      "text/plain": [
       "<Figure size 640x480 with 1 Axes>"
      ]
     },
     "metadata": {},
     "output_type": "display_data"
    }
   ],
   "source": [
    "sns.barplot(x='country', y='num_sold', data=train, hue='weekday')"
   ]
  },
  {
   "cell_type": "code",
   "execution_count": 40,
   "id": "77d5763b",
   "metadata": {},
   "outputs": [
    {
     "data": {
      "text/plain": [
       "<Axes: xlabel='store', ylabel='num_sold'>"
      ]
     },
     "execution_count": 40,
     "metadata": {},
     "output_type": "execute_result"
    },
    {
     "data": {
      "image/png": "[encoded data removed]",
      "text/plain": [
       "<Figure size 640x480 with 1 Axes>"
      ]
     },
     "metadata": {},
     "output_type": "display_data"
    }
   ],
   "source": [
    "sns.barplot(x='store', y='num_sold', data=train, hue='weekday')"
   ]
  },
  {
   "cell_type": "code",
   "execution_count": 41,
   "id": "88a09dad",
   "metadata": {},
   "outputs": [
    {
     "data": {
      "text/plain": [
       "<Axes: xlabel='product', ylabel='num_sold'>"
      ]
     },
     "execution_count": 41,
     "metadata": {},
     "output_type": "execute_result"
    },
    {
     "data": {
      "image/png": "[encoded data removed]",
      "text/plain": [
       "<Figure size 640x480 with 1 Axes>"
      ]
     },
     "metadata": {},
     "output_type": "display_data"
    }
   ],
   "source": [
    "sns.barplot(x='product', y='num_sold', data=train, hue='weekday')"
   ]
  },
  {
   "cell_type": "markdown",
   "id": "3d6e95d6",
   "metadata": {},
   "source": [
    "Just in case there is an impact from holidays such as Christmas, let's do a quick check for any annual patterns."
   ]
  },
  {
   "cell_type": "code",
   "execution_count": 119,
   "id": "ced4bf2a",
   "metadata": {},
   "outputs": [
    {
     "data": {
      "text/plain": [
       "<Axes: xlabel='month', ylabel='num_sold'>"
      ]
     },
     "execution_count": 119,
     "metadata": {},
     "output_type": "execute_result"
    },
    {
     "data": {
      "image/png": "[encoded data removed]",
      "text/plain": [
       "<Figure size 640x480 with 1 Axes>"
      ]
     },
     "metadata": {},
     "output_type": "display_data"
    }
   ],
   "source": [
    "sns.barplot(x='month', y='num_sold', data=train)"
   ]
  },
  {
   "cell_type": "markdown",
   "id": "fc86bb27",
   "metadata": {},
   "source": [
    "A good thing we checked, there is an upswing in sales in December. And another notable one in April/May. While we're at it, let's isolate the day and year value.."
   ]
  },
  {
   "cell_type": "code",
   "execution_count": 67,
   "id": "fac7a25c",
   "metadata": {},
   "outputs": [
    {
     "data": {
      "text/plain": [
       "<Axes: xlabel='monthday', ylabel='num_sold'>"
      ]
     },
     "execution_count": 67,
     "metadata": {},
     "output_type": "execute_result"
    },
    {
     "data": {
      "image/png": "[encoded data removed]",
      "text/plain": [
       "<Figure size 640x480 with 1 Axes>"
      ]
     },
     "metadata": {},
     "output_type": "display_data"
    }
   ],
   "source": [
    "sns.barplot(x='monthday', y='num_sold', data=train)"
   ]
  },
  {
   "cell_type": "markdown",
   "id": "23a14628",
   "metadata": {},
   "source": [
    "Again we can see some uptick towards the end of the month. This is interesting as not all months have 31 days. Looking at our records we can see this is true."
   ]
  },
  {
   "cell_type": "code",
   "execution_count": 72,
   "id": "8deeb23c",
   "metadata": {},
   "outputs": [
    {
     "data": {
      "application/vnd.microsoft.datawrangler.viewer.v0+json": {
       "columns": [
        {
         "name": "monthday",
         "rawType": "int64",
         "type": "integer"
        },
        {
         "name": "0",
         "rawType": "int64",
         "type": "integer"
        }
       ],
       "ref": "4ef3af54-80fc-46c7-b413-c85f1995d70e",
       "rows": [
        [
         "26",
         "7560"
        ],
        [
         "27",
         "7560"
        ],
        [
         "28",
         "7560"
        ],
        [
         "29",
         "7110"
        ],
        [
         "30",
         "6930"
        ],
        [
         "31",
         "4410"
        ]
       ],
       "shape": {
        "columns": 1,
        "rows": 6
       }
      },
      "text/plain": [
       "monthday\n",
       "26    7560\n",
       "27    7560\n",
       "28    7560\n",
       "29    7110\n",
       "30    6930\n",
       "31    4410\n",
       "dtype: int64"
      ]
     },
     "execution_count": 72,
     "metadata": {},
     "output_type": "execute_result"
    }
   ],
   "source": [
    "train.query('monthday > 25').groupby('monthday').size()"
   ]
  },
  {
   "cell_type": "markdown",
   "id": "d5f8a025",
   "metadata": {},
   "source": [
    "Next let's look at our data by year."
   ]
  },
  {
   "cell_type": "code",
   "execution_count": 45,
   "id": "c5798ddb",
   "metadata": {},
   "outputs": [
    {
     "data": {
      "text/plain": [
       "<Axes: xlabel='year', ylabel='num_sold'>"
      ]
     },
     "execution_count": 45,
     "metadata": {},
     "output_type": "execute_result"
    },
    {
     "data": {
      "image/png": "[encoded data removed]",
      "text/plain": [
       "<Figure size 640x480 with 1 Axes>"
      ]
     },
     "metadata": {},
     "output_type": "display_data"
    }
   ],
   "source": [
    "sns.barplot(x='year', y='num_sold', data=train)"
   ]
  },
  {
   "cell_type": "markdown",
   "id": "08aa7919",
   "metadata": {},
   "source": [
    "Ah, we'll this complicates things a bit. It appears that sales are dropping off. This effect is not cyclical and, due to our dataset, there isn't much we can explore to predict this trend. We can cut it up by store, product and country and the effect is constant. Looking at it along side months, we can see that there is always a dip towards the end of the year and December is always a spike."
   ]
  },
  {
   "cell_type": "code",
   "execution_count": 63,
   "id": "91e91f55",
   "metadata": {},
   "outputs": [
    {
     "data": {
      "text/plain": [
       "<Axes: xlabel='year', ylabel='num_sold'>"
      ]
     },
     "execution_count": 63,
     "metadata": {},
     "output_type": "execute_result"
    },
    {
     "data": {
      "image/png": "[encoded data removed]",
      "text/plain": [
       "<Figure size 640x480 with 1 Axes>"
      ]
     },
     "metadata": {},
     "output_type": "display_data"
    }
   ],
   "source": [
    "sns.barplot(x='year', y='num_sold', data=train, hue='month')"
   ]
  },
  {
   "cell_type": "markdown",
   "id": "25f9d340",
   "metadata": {},
   "source": [
    "It would be worth checking at this point that each categorical variable is represented equally. Don't want to be impacted by any stores opened late in the picture or any products that were short runs or special editions."
   ]
  },
  {
   "cell_type": "code",
   "execution_count": 57,
   "id": "3d397fd9",
   "metadata": {},
   "outputs": [
    {
     "name": "stdout",
     "output_type": "stream",
     "text": [
      "country\n",
      "Canada       38355\n",
      "Finland      38355\n",
      "Italy        38355\n",
      "Kenya        38355\n",
      "Norway       38355\n",
      "Singapore    38355\n",
      "dtype: int64\n",
      "store\n",
      "Discount Stickers       76710\n",
      "Premium Sticker Mart    76710\n",
      "Stickers for Less       76710\n",
      "dtype: int64\n",
      "product\n",
      "Holographic Goose     46026\n",
      "Kaggle                46026\n",
      "Kaggle Tiers          46026\n",
      "Kerneler              46026\n",
      "Kerneler Dark Mode    46026\n",
      "dtype: int64\n"
     ]
    }
   ],
   "source": [
    "print(train.groupby(\"country\").size())\n",
    "print(train.groupby(\"store\").size())\n",
    "print(train.groupby(\"product\").size())"
   ]
  },
  {
   "cell_type": "markdown",
   "id": "2d27b783",
   "metadata": {},
   "source": [
    "And no, it appears every thing that is represented in the dataset is represented from the start to the end."
   ]
  },
  {
   "cell_type": "markdown",
   "id": "bd998327",
   "metadata": {},
   "source": [
    "## Target Variable\n",
    "The next thing we should do is look at our target variable."
   ]
  },
  {
   "cell_type": "code",
   "execution_count": 161,
   "id": "ceedc04b",
   "metadata": {},
   "outputs": [
    {
     "data": {
      "application/vnd.microsoft.datawrangler.viewer.v0+json": {
       "columns": [
        {
         "name": "index",
         "rawType": "int64",
         "type": "integer"
        },
        {
         "name": "num_sold",
         "rawType": "float64",
         "type": "float"
        }
       ],
       "ref": "25137e1e-dfaf-4a36-bafe-56f85559b020",
       "rows": [
        [
         "0",
         "0.0"
        ],
        [
         "1",
         "973.0"
        ],
        [
         "2",
         "906.0"
        ],
        [
         "3",
         "423.0"
        ],
        [
         "4",
         "491.0"
        ],
        [
         "5",
         "300.0"
        ],
        [
         "6",
         "1837.0"
        ],
        [
         "7",
         "1659.0"
        ],
        [
         "8",
         "807.0"
        ],
        [
         "9",
         "940.0"
        ],
        [
         "10",
         "375.0"
        ],
        [
         "11",
         "2212.0"
        ],
        [
         "12",
         "2013.0"
        ],
        [
         "13",
         "950.0"
        ],
        [
         "14",
         "1213.0"
        ],
        [
         "15",
         "150.0"
        ],
        [
         "16",
         "926.0"
        ],
        [
         "17",
         "774.0"
        ],
        [
         "18",
         "424.0"
        ],
        [
         "19",
         "450.0"
        ],
        [
         "20",
         "311.0"
        ],
        [
         "21",
         "1948.0"
        ],
        [
         "22",
         "1632.0"
        ],
        [
         "23",
         "878.0"
        ],
        [
         "24",
         "950.0"
        ],
        [
         "25",
         "362.0"
        ],
        [
         "26",
         "2304.0"
        ],
        [
         "27",
         "2070.0"
        ],
        [
         "28",
         "1134.0"
        ],
        [
         "29",
         "1047.0"
        ],
        [
         "30",
         "110.0"
        ],
        [
         "31",
         "681.0"
        ],
        [
         "32",
         "627.0"
        ],
        [
         "33",
         "340.0"
        ],
        [
         "34",
         "406.0"
        ],
        [
         "35",
         "228.0"
        ],
        [
         "36",
         "1424.0"
        ],
        [
         "37",
         "1281.0"
        ],
        [
         "38",
         "637.0"
        ],
        [
         "39",
         "778.0"
        ],
        [
         "40",
         "269.0"
        ],
        [
         "41",
         "1786.0"
        ],
        [
         "42",
         "1434.0"
        ],
        [
         "43",
         "783.0"
        ],
        [
         "44",
         "861.0"
        ],
        [
         "45",
         "0.0"
        ],
        [
         "46",
         "20.0"
        ],
        [
         "47",
         "16.0"
        ],
        [
         "48",
         "8.0"
        ],
        [
         "49",
         "9.0"
        ]
       ],
       "shape": {
        "columns": 1,
        "rows": 230130
       }
      },
      "text/plain": [
       "0            0.0\n",
       "1          973.0\n",
       "2          906.0\n",
       "3          423.0\n",
       "4          491.0\n",
       "           ...  \n",
       "230125     466.0\n",
       "230126    2907.0\n",
       "230127    2299.0\n",
       "230128    1242.0\n",
       "230129    1622.0\n",
       "Name: num_sold, Length: 230130, dtype: float64"
      ]
     },
     "execution_count": 161,
     "metadata": {},
     "output_type": "execute_result"
    }
   ],
   "source": [
    "train.num_sold"
   ]
  },
  {
   "cell_type": "code",
   "execution_count": null,
   "id": "fbf835b1",
   "metadata": {},
   "outputs": [
    {
     "name": "stdout",
     "output_type": "stream",
     "text": [
      "(8871, 10)\n",
      "(219312, 10)\n"
     ]
    },
    {
     "data": {
      "text/plain": [
       "Text(0.5, 1.0, 'Distribution of num_sold')"
      ]
     },
     "execution_count": 167,
     "metadata": {},
     "output_type": "execute_result"
    },
    {
     "data": {
      "image/png": "[encoded data removed]",
      "text/plain": [
       "<Figure size 640x480 with 1 Axes>"
      ]
     },
     "metadata": {},
     "output_type": "display_data"
    }
   ],
   "source": [
    "sns.histplot(train.query('num_sold > 0')['num_sold'])\n",
    "plt.title('Distribution of num_sold')\n"
   ]
  },
  {
   "cell_type": "markdown",
   "id": "e11884bd",
   "metadata": {},
   "source": [
    "Our target variable is far from normally distributed. This makes sense, you can't sell less than 0 stickets. The distrbution looks to be a noisy power law distribution. IE the frequency is inversly proportional to the severity. We can confirm this by considering a log-log histogram plot and finding a fairly stable diagonal trend."
   ]
  },
  {
   "cell_type": "code",
   "execution_count": 170,
   "id": "9a16c0fe",
   "metadata": {},
   "outputs": [
    {
     "data": {
      "text/plain": [
       "<Axes: xlabel='num_sold', ylabel='Count'>"
      ]
     },
     "execution_count": 170,
     "metadata": {},
     "output_type": "execute_result"
    },
    {
     "data": {
      "image/png": "[encoded data removed]",
      "text/plain": [
       "<Figure size 640x480 with 1 Axes>"
      ]
     },
     "metadata": {},
     "output_type": "display_data"
    }
   ],
   "source": [
    "sns.histplot(train.query('num_sold > 0')['num_sold'],log_scale=True)"
   ]
  },
  {
   "cell_type": "markdown",
   "id": "e86f5d6a",
   "metadata": {},
   "source": [
    "# Predictive Modelling\n",
    "## Linear Regression\n",
    "With little more we can do in terms of feature engineering, let's prep our test set features and run a simple linear regretion. This will serve as our initial predictive baseline. We'll consider the results and go from there. "
   ]
  },
  {
   "cell_type": "markdown",
   "id": "8b3e61c0",
   "metadata": {},
   "source": [
    "First we need to import our packages for modelling and instantiate our linear model."
   ]
  },
  {
   "cell_type": "code",
   "execution_count": 131,
   "id": "745b452f",
   "metadata": {},
   "outputs": [],
   "source": [
    "from sklearn.linear_model import LinearRegression\n",
    "from sklearn.preprocessing import OneHotEncoder\n",
    "from sklearn.compose import ColumnTransformer\n",
    "from sklearn.metrics import mean_squared_error, r2_score, mean_absolute_error, root_mean_squared_error\n",
    "\n",
    "lr = LinearRegression()"
   ]
  },
  {
   "cell_type": "markdown",
   "id": "2d57c0b9",
   "metadata": {},
   "source": [
    "Next we need to adjust our variables. Any categorical variables will be one-hot encoded (1 for yes, 0 for no) so our model can use them mathematically."
   ]
  },
  {
   "cell_type": "code",
   "execution_count": null,
   "metadata": {},
   "outputs": [
    {
     "name": "stdout",
     "output_type": "stream",
     "text": [
      "Model Performance:\n",
      "R² Score: 0.777\n",
      "Mean Squared Error: 106712.453\n",
      "Mean Absolute Error: 230.291\n",
      "Root Mean Squared Error: 326.669\n"
     ]
    }
   ],
   "source": [
    "\n",
    "categorical_feature = ['country', 'store', 'product']\n",
    "numerical_feature = ['weekday', 'day', 'month', 'year']\n",
    "\n",
    "preprocessor = ColumnTransformer(\n",
    "    transformers=[\n",
    "        ('cat', OneHotEncoder(drop='first'), categorical_feature),\n",
    "        ('num', 'passthrough', numerical_feature)\n",
    "    ])\n",
    "\n",
    "x = train[['weekday', 'day', 'month', 'year', 'country', 'store', 'product']]\n",
    "y = train['num_sold']\n",
    "\n",
    "x_transformed = preprocessor.fit_transform(x)\n"
   ]
  },
  {
   "cell_type": "markdown",
   "id": "345fe24e",
   "metadata": {},
   "source": [
    "We can then fit our model to the data and have a look at the results."
   ]
  },
  {
   "cell_type": "code",
   "execution_count": 133,
   "id": "70c2dfa9",
   "metadata": {},
   "outputs": [
    {
     "name": "stdout",
     "output_type": "stream",
     "text": [
      "Model Performance:\n",
      "R² Score: 0.777\n",
      "Mean Squared Error: 106712.453\n",
      "Mean Absolute Error: 230.291\n",
      "Root Mean Squared Error: 326.669\n"
     ]
    }
   ],
   "source": [
    "\n",
    "lr.fit(x_transformed, y)\n",
    "\n",
    "y_pred = lr.predict(x_transformed)\n",
    "\n",
    "print(\"Model Performance:\")\n",
    "print(f\"R² Score: {r2_score(y, y_pred):.3f}\")\n",
    "print(f\"Mean Squared Error: {mean_squared_error(y, y_pred):.3f}\")\n",
    "print(f\"Mean Absolute Error: {mean_absolute_error(y, y_pred):.3f}\")\n",
    "print(f\"Root Mean Squared Error: {root_mean_squared_error(y, y_pred):.3f}\")"
   ]
  },
  {
   "cell_type": "markdown",
   "id": "2de39f9a",
   "metadata": {},
   "source": [
    "Not terrible but not great results. This makes sense for several reasons. Let's look closer."
   ]
  },
  {
   "cell_type": "code",
   "execution_count": 134,
   "id": "a2990748",
   "metadata": {},
   "outputs": [
    {
     "data": {
      "image/png": "[encoded data removed]",
      "text/plain": [
       "<Figure size 1500x500 with 3 Axes>"
      ]
     },
     "metadata": {},
     "output_type": "display_data"
    }
   ],
   "source": [
    "# Set seaborn style\n",
    "sns.set_style(\"whitegrid\")\n",
    "plt.figure(figsize=(15, 5))\n",
    "\n",
    "# 1. Actual vs Predicted scatter plot\n",
    "plt.subplot(1, 3, 1)\n",
    "sns.scatterplot(x=y, y=y_pred, alpha=0.6)\n",
    "sns.lineplot(x=[y.min(), y.max()], y=[y.min(), y.max()], color='red', linestyle='--')\n",
    "plt.xlabel('Actual num_sold')\n",
    "plt.ylabel('Predicted num_sold')\n",
    "plt.title('Actual vs Predicted')\n",
    "\n",
    "# 2. Residuals plot\n",
    "plt.subplot(1, 3, 2)\n",
    "residuals = y - y_pred\n",
    "sns.scatterplot(x=y_pred, y=residuals, alpha=0.6)\n",
    "plt.axhline(y=0, color='red', linestyle='--')\n",
    "plt.xlabel('Predicted num_sold')\n",
    "plt.ylabel('Residuals')\n",
    "plt.title('Residuals vs Predicted')\n",
    "\n",
    "# 3. Residuals distribution\n",
    "plt.subplot(1, 3, 3)\n",
    "sns.histplot(residuals, kde=True)\n",
    "plt.xlabel('Residuals')\n",
    "plt.title('Distribution of Residuals')\n",
    "\n",
    "plt.tight_layout()\n",
    "plt.show()"
   ]
  }
 ],
 "metadata": {
  "kernelspec": {
   "display_name": "Python 3",
   "language": "python",
   "name": "python3"
  },
  "language_info": {
   "codemirror_mode": {
    "name": "ipython",
    "version": 3
   },
   "file_extension": ".py",
   "mimetype": "text/x-python",
   "name": "python",
   "nbconvert_exporter": "python",
   "pygments_lexer": "ipython3",
   "version": "3.13.1"
  }
 },
 "nbformat": 4,
 "nbformat_minor": 5
}
